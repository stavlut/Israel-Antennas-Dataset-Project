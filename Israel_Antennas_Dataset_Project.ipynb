{
  "nbformat": 4,
  "nbformat_minor": 0,
  "metadata": {
    "colab": {
      "name": "Israel Antennas Dataset Project.ipynb",
      "provenance": [],
      "collapsed_sections": [],
      "toc_visible": true
    },
    "kernelspec": {
      "name": "python3",
      "display_name": "Python 3"
    }
  },
  "cells": [
    {
      "cell_type": "markdown",
      "metadata": {
        "id": "qgkRHh1sGW5D",
        "colab_type": "text"
      },
      "source": [
        "\n",
        "\n",
        "\n",
        "# The Art of Analyzing Big Data - Final Project\n",
        "###Israel Antennas Dataset Project \n",
        "\n",
        "In this project, we explored the distribution of cellular antennas across Israel and specifically their environmental effects in terms of radiation and landscape \"pollution\". We analyzed the data along with socio-economic data to see if there is a link between socio-economic levels and the environmental effects of the antennas. To accomplish this analysis, we used three types of datasets: 1. Antennas data that describe the location of the antenna and its radiation effects, the data was taken from the Israel Ministry of environmental protection. 2. Socio-economic data received from the Israel Central Bureau of Statistics describe the socio-economic details and ranking of each statistical areas which are cities and towns areas or sub-areas, we mainly used the cluster ranking of the statistical regions. 3. Geographic data of each statistical area published by the Israeli Mapping Center was used to determine the distribution of antennas across statistical areas. We matched each antennas location to its statistical area so we can further analyze the link between antennas and socio-economic levels."
      ]
    },
    {
      "cell_type": "markdown",
      "metadata": {
        "id": "ULGc5IEdG4CI",
        "colab_type": "text"
      },
      "source": [
        "## Connecting to data sources in google colab, installing libraries and loading data"
      ]
    },
    {
      "cell_type": "code",
      "metadata": {
        "id": "oOMjFdf1Hjj6",
        "colab_type": "code",
        "colab": {}
      },
      "source": [
        "#read file from sharefolder\n",
        "from google.colab import drive\n",
        "drive.mount('/content/drive/')"
      ],
      "execution_count": null,
      "outputs": []
    },
    {
      "cell_type": "code",
      "metadata": {
        "id": "g6vXnBImJDlD",
        "colab_type": "code",
        "colab": {}
      },
      "source": [
        "# installing libraries\n",
        "!pip install turicreate\n",
        "!pip install geopandas\n",
        "!pip install folium\n",
        "!pip install plotly_express\n",
        "!pip install geopy\n",
        "!pip install itm\n"
      ],
      "execution_count": null,
      "outputs": []
    },
    {
      "cell_type": "code",
      "metadata": {
        "id": "4LlxcqDfaTQd",
        "colab_type": "code",
        "colab": {}
      },
      "source": [
        "# importing libraries\n",
        "import numpy as np\n",
        "import turicreate as tc\n",
        "import pandas as pd\n",
        "import geopandas\n",
        "import folium\n",
        "from folium.plugins import HeatMapWithTime,HeatMap\n",
        "import datetime as dt\n",
        "import matplotlib.pyplot as plt\n",
        "import seaborn as sns\n",
        "from shapely.geometry import shape, Point\n",
        "import itm\n",
        "from tqdm import tqdm_notebook as tqdm\n",
        "import re\n",
        "import dateutil\n",
        "from dateutil import relativedelta\n",
        "import plotly_express as px"
      ],
      "execution_count": null,
      "outputs": []
    },
    {
      "cell_type": "code",
      "metadata": {
        "id": "ey98L6vkcz89",
        "colab_type": "code",
        "colab": {}
      },
      "source": [
        "# loading socio economic data published by the Israel Central Bureau of Statistics \n",
        "socio_economic_df = pd.read_excel(\"/content/drive/My Drive/bigdata_project_data/socio_economic_index_2008.xls\")\n",
        "# generating a unique key for each statistical area by concatinating the statistical area and the city/town/settlement code\n",
        "socio_economic_df['area'] = socio_economic_df['semel'].astype(str) + socio_economic_df['statistical_area'].astype(str)\n",
        "socio_economic_df.dropna(inplace=True)"
      ],
      "execution_count": null,
      "outputs": []
    },
    {
      "cell_type": "code",
      "metadata": {
        "id": "QYAwVdcwJw7f",
        "colab_type": "code",
        "colab": {}
      },
      "source": [
        "socio_economic_df.head()"
      ],
      "execution_count": null,
      "outputs": []
    },
    {
      "cell_type": "code",
      "metadata": {
        "id": "GWAi7u0p53yi",
        "colab_type": "code",
        "colab": {}
      },
      "source": [
        "# loading antennas data published by Israel ministry of enviormental protection\n",
        "Antennas = pd.read_excel(\"/content/drive/My Drive/bigdata_project_data/radiation_non_ionizing_shidur_selulariim_peilim_1.xlsx\")"
      ],
      "execution_count": null,
      "outputs": []
    },
    {
      "cell_type": "code",
      "metadata": {
        "id": "HOscv8EiKNno",
        "colab_type": "code",
        "colab": {}
      },
      "source": [
        "Antennas.head()"
      ],
      "execution_count": null,
      "outputs": []
    },
    {
      "cell_type": "code",
      "metadata": {
        "id": "wyPTqYB8o0nw",
        "colab_type": "code",
        "colab": {}
      },
      "source": [
        "# loading the polygons of statistical areas published by the Israeli Mapping Center\n",
        "area_polygons = geopandas.read_file(\"/content/drive/My Drive/bigdata_project_data/data/stat_2008_NEW_04Nov_1335_fix.shp\" )\n",
        "area_polygons['area'] = area_polygons[\"SEMEL_YISH\"].astype(str)+area_polygons[\"STAT08\"].astype(str) \n",
        "area_polygons = area_polygons.loc[area_polygons['area'].isin(socio_economic_df['area'])]\n",
        "area_polygons.dropna(inplace=True)\n",
        "plygon_json = area_polygons.to_json()"
      ],
      "execution_count": null,
      "outputs": []
    },
    {
      "cell_type": "code",
      "metadata": {
        "id": "LvE3cGRKKUU1",
        "colab_type": "code",
        "colab": {}
      },
      "source": [
        "area_polygons.head()"
      ],
      "execution_count": null,
      "outputs": []
    },
    {
      "cell_type": "code",
      "metadata": {
        "id": "Z-q6ReG6HiQS",
        "colab_type": "code",
        "colab": {}
      },
      "source": [
        "# iterating over each antenna location and checking in which statistical area polygon does it fit\n",
        "def get_area_from_itm(y_itm,x_itm,area_polygons):\n",
        "    coord_y,coord_x = itm.itm2wgs84(y_itm, x_itm )\n",
        "    # print(coord_y,coord_x)\n",
        "    point = Point(coord_x, coord_y)\n",
        "    for area,polygon in zip(area_polygons['area'].tolist(),area_polygons['geometry'].tolist()):\n",
        "        polygon = shape(polygon)\n",
        "        if polygon.contains(point):\n",
        "          return area\n",
        "\n",
        "# areas = []\n",
        "# for antenna_y,antenna_x in tqdm(zip(Antennas['Y_ITM'],Antennas['X_ITM'])):\n",
        "#     areas.append(get_area_from_itm(antenna_y,antenna_x,area_polygons))\n",
        "\n",
        "# Antennas['area'] = areas\n",
        "# Antennas.to_csv('antennas_with_areas')"
      ],
      "execution_count": null,
      "outputs": []
    },
    {
      "cell_type": "code",
      "metadata": {
        "id": "ekxOoynmKb-q",
        "colab_type": "code",
        "colab": {}
      },
      "source": [
        "# we used for the analysis only statistical areas that have antennas\n",
        "antennas_with_areas = pd.read_csv('/content/drive/My Drive/bigdata_project_data/antennas.csv')\n",
        "antennas_with_areas.dropna(inplace=True)\n",
        "antennas_with_areas['area'] = antennas_with_areas['area'].astype(int).astype(str)\n",
        "antennas_with_areas['תוצאה מירבית ב% ביחס לסף הבריאות'] = antennas_with_areas['תוצאה מירבית ב% ביחס לסף הבריאות'].apply(lambda x: re.sub('\\.+','.',x)).astype(float)\n"
      ],
      "execution_count": null,
      "outputs": []
    },
    {
      "cell_type": "code",
      "metadata": {
        "id": "wqn4bLGe9eCR",
        "colab_type": "code",
        "colab": {}
      },
      "source": [
        "def get_datetime(dt_str):\n",
        "    try:\n",
        "        return dateutil.parser.parse(dt_str)\n",
        "    except:\n",
        "        return None\n",
        "\n",
        "\n",
        "antennas_with_areas['תאריך היתר הקמה'] = antennas_with_areas['תאריך היתר הקמה'].apply(lambda dt_str: get_datetime(dt_str))\n",
        "antennas_with_areas['Month_permit'] = antennas_with_areas['תאריך היתר הקמה'].apply(lambda dt: dt.month)\n",
        "antennas_with_areas['Year_permit'] = antennas_with_areas['תאריך היתר הקמה'].apply(lambda dt: dt.year)\n",
        "\n",
        "antennas_with_areas['תאריך היתר הפעלה'] = antennas_with_areas['תאריך היתר הפעלה'].apply(lambda dt_str: get_datetime(dt_str))\n",
        "antennas_with_areas['Month_activate'] = antennas_with_areas['תאריך היתר הפעלה'].apply(lambda dt: dt.month)\n",
        "antennas_with_areas['Year_activate'] = antennas_with_areas['תאריך היתר הפעלה'].apply(lambda dt: dt.year)\n",
        "antennas_with_areas['gap'] = antennas_with_areas['Year_activate']  - antennas_with_areas['Year_permit']\n",
        "\n",
        "antennas_with_areas['gap_DT'] = [relativedelta.relativedelta(hfala ,hakama).years*12+relativedelta.relativedelta(hfala ,hakama).months for hfala,hakama in zip(antennas_with_areas['תאריך היתר הפעלה'] , antennas_with_areas['תאריך היתר הקמה'])]\n",
        "antennas_with_cluster = pd.merge(antennas_with_areas,socio_economic_df[['area','cluster']],on='area')\n",
        "antennas_with_cluster.head()"
      ],
      "execution_count": null,
      "outputs": []
    },
    {
      "cell_type": "code",
      "metadata": {
        "id": "IsUH_zfmKid7",
        "colab_type": "code",
        "colab": {}
      },
      "source": [
        "# merging the antennas dataset with the partly socio economic dataset\n",
        "antennas_with_cluster = pd.merge(antennas_with_areas,socio_economic_df[['area','cluster','population ']],on='area')"
      ],
      "execution_count": null,
      "outputs": []
    },
    {
      "cell_type": "markdown",
      "metadata": {
        "id": "FYjpeAVDE-zm",
        "colab_type": "text"
      },
      "source": [
        "## Project Assumptions"
      ]
    },
    {
      "cell_type": "markdown",
      "metadata": {
        "id": "AZ5F2d3mFGhQ",
        "colab_type": "text"
      },
      "source": [
        "There are few assumptions that we learned about antennas and socio-economic ranking before we started analyzing the data:\n",
        "\n",
        "\n",
        "1.   Antennas radiation measure is worse for humans when it is higher.\n",
        "2.   There is a strong regulation by the state on antennas radiation.\n",
        "3.   There is a secondary radiation hazard from using a cellular phone when your phone is far from an antenna. It is more radiating, so more antennas are usually better than a few antennas in terms of phones cellular radiation.\n",
        "4.   Areas are divided into 19 socio-economic clusters, where 2 is the lowest socio-economy areas, and 20 is the highest socio-economic areas.\n",
        "5.   We analyzed only statistical areas that have antennas in their jurisdiction\n"
      ]
    },
    {
      "cell_type": "markdown",
      "metadata": {
        "id": "lpo3geoeLEGg",
        "colab_type": "text"
      },
      "source": [
        "## Socio Economic Data Exploration"
      ]
    },
    {
      "cell_type": "markdown",
      "metadata": {
        "id": "wx8_SGYdLkIH",
        "colab_type": "text"
      },
      "source": [
        "### Map of Socio Economic Areas colored by socio economic cluster defined by the Israel Central Bureau of Statistics. 20 is Rich statistical areas and 2 is poor statistical areas"
      ]
    },
    {
      "cell_type": "code",
      "metadata": {
        "id": "rdXPmBaK6DnL",
        "colab_type": "code",
        "colab": {}
      },
      "source": [
        "\n",
        "m = folium.Map(location=[31.803772299985, 35.10324724174089], zoom_start=9)\n",
        "\n",
        "m.choropleth(\n",
        " geo_data=plygon_json,\n",
        " name='choropleth',\n",
        " data=socio_economic_df,\n",
        " columns=['area' , 'cluster'],\n",
        " key_on='feature.properties.area',\n",
        " fill_color='YlOrRd',\n",
        " fill_opacity=0.7,\n",
        " line_opacity=0.2,\n",
        ")\n",
        "m"
      ],
      "execution_count": null,
      "outputs": []
    },
    {
      "cell_type": "markdown",
      "metadata": {
        "id": "eMpdntQ4MQtE",
        "colab_type": "text"
      },
      "source": [
        "### Socio Economic Exploration"
      ]
    },
    {
      "cell_type": "markdown",
      "metadata": {
        "id": "pdDp-X0qdahG",
        "colab_type": "text"
      },
      "source": [
        "#### Figure 1.1"
      ]
    },
    {
      "cell_type": "code",
      "metadata": {
        "id": "_cfO2ZuIMst0",
        "colab_type": "code",
        "colab": {}
      },
      "source": [
        "fig, ax = plt.subplots(figsize=(22,8))\n",
        "sns.distplot(list(socio_economic_df['cluster']), hist=False, kde=True, kde_kws={\"clip\": [1,20]})\n",
        "ax.set(xlabel=\"Economic Clusters\", ylabel=\"Count\")\n",
        "ax.set_title(\"Socio-Economic Clusters Disribution\", fontsize=20)\n",
        "plt.show()"
      ],
      "execution_count": null,
      "outputs": []
    },
    {
      "cell_type": "markdown",
      "metadata": {
        "id": "6K1JN_dhHYml",
        "colab_type": "text"
      },
      "source": [
        "It can be seen that most of the common socio economic areas are from clusters 8 - 14"
      ]
    },
    {
      "cell_type": "markdown",
      "metadata": {
        "id": "CU-pSvA1djmV",
        "colab_type": "text"
      },
      "source": [
        "#### Figure 1.2"
      ]
    },
    {
      "cell_type": "code",
      "metadata": {
        "id": "r6ZwQtTiM-ge",
        "colab_type": "code",
        "colab": {}
      },
      "source": [
        "fig, ax = plt.subplots(figsize=(22,8))\n",
        "sns.distplot(list(socio_economic_df['population ']), hist=False)\n",
        "ax.set(xlabel=\"Population\", ylabel=\"Percentage\")\n",
        "ax.set_title(\"Socio-Economic Statistical Area Population Disribution\", fontsize=20)\n",
        "plt.show()"
      ],
      "execution_count": null,
      "outputs": []
    },
    {
      "cell_type": "markdown",
      "metadata": {
        "id": "nEYN7UVNIYXt",
        "colab_type": "text"
      },
      "source": [
        "Most statistical areas have populations between 2500 - 5000 people"
      ]
    },
    {
      "cell_type": "markdown",
      "metadata": {
        "id": "mgcPjXkCek3c",
        "colab_type": "text"
      },
      "source": [
        "#### Figure 1.3"
      ]
    },
    {
      "cell_type": "code",
      "metadata": {
        "id": "bm9gH-abmsyD",
        "colab_type": "code",
        "colab": {}
      },
      "source": [
        "df = socio_economic_df.groupby(['cluster'])['population '].mean().to_frame('population_avg').reset_index()\n",
        "fig, ax = plt.subplots(figsize=(22,8))\n",
        "sns.set(style=\"whitegrid\")\n",
        "ax = sns.barplot(x='cluster', y=\"population_avg\", data=df)\n",
        "ax.set_title(\"Average population by Socio Economic Cluster\", fontsize=20)\n",
        "plt.show()"
      ],
      "execution_count": null,
      "outputs": []
    },
    {
      "cell_type": "markdown",
      "metadata": {
        "id": "vG5NZc6vIokd",
        "colab_type": "text"
      },
      "source": [
        "From the population distribution based on clusters we can learn that on average most cluster have the same populations size, except the 5 lower socio economic clusters that have larger population, that 3 highest socio economy cluster tend to have a slightly smaller population."
      ]
    },
    {
      "cell_type": "markdown",
      "metadata": {
        "id": "faOrkQb7N8tm",
        "colab_type": "text"
      },
      "source": [
        "## Antennas Data Exploration"
      ]
    },
    {
      "cell_type": "markdown",
      "metadata": {
        "id": "dFPpcfWeOYKX",
        "colab_type": "text"
      },
      "source": [
        "### Antennas location map"
      ]
    },
    {
      "cell_type": "code",
      "metadata": {
        "id": "pDjHlSX7OCcv",
        "colab_type": "code",
        "colab": {}
      },
      "source": [
        "from folium.plugins import MarkerCluster\n",
        "def pop_text(r):\n",
        "    txt =str(r['עוצמת הקרינה'])\n",
        "    return txt\n",
        "\n",
        "m = folium.Map(location=[31.803772299985, 35.10324724174089], zoom_start=9, tiles='CartoDB dark_matter')\n",
        "mc = MarkerCluster()\n",
        "for index,r in Antennas.iterrows():\n",
        "    coord_y,coord_x = itm.itm2wgs84(r['Y_ITM'],  r['X_ITM'] )\n",
        "    mc.add_child(folium.CircleMarker(location=[coord_y, coord_x],\n",
        "                        radius=5,color=\"#007849\", popup=pop_text(r), parse_html=True))\n",
        "m.add_child(mc)\n",
        "m"
      ],
      "execution_count": null,
      "outputs": []
    },
    {
      "cell_type": "markdown",
      "metadata": {
        "id": "cKn3ohOvOpRj",
        "colab_type": "text"
      },
      "source": [
        "### Antennas Radiation Analysis\n",
        "\n",
        "\n"
      ]
    },
    {
      "cell_type": "markdown",
      "metadata": {
        "id": "p8kHJS75f7lT",
        "colab_type": "text"
      },
      "source": [
        "#### Figure 2.1"
      ]
    },
    {
      "cell_type": "code",
      "metadata": {
        "id": "XV39l6bwOwVj",
        "colab_type": "code",
        "colab": {}
      },
      "source": [
        "fig, ax = plt.subplots(figsize=(22,8))\n",
        "\n",
        "sns.distplot(list(antennas_with_areas['עוצמת הקרינה']), hist=True, kde=False)\n",
        "ax.set(xlabel=\"Radiation Intensity\", ylabel=\"Count\")\n",
        "ax.set_title(\"Radiation Intensity Distribution\", fontsize=20)\n",
        "ax.xaxis.limit_range_for_scale(0,100)\n",
        "plt.show()\n"
      ],
      "execution_count": null,
      "outputs": []
    },
    {
      "cell_type": "markdown",
      "metadata": {
        "id": "rstwvPrfJkqP",
        "colab_type": "text"
      },
      "source": [
        "Most of the antennas radiation is betweeb 0 and 75 where the larger portion of antennas have close to 0 radiation, this make sense as there is a strong regulation of cellular radiation in Israel."
      ]
    },
    {
      "cell_type": "markdown",
      "metadata": {
        "id": "TXiGVkVUhajm",
        "colab_type": "text"
      },
      "source": [
        "#### Figure 2.2"
      ]
    },
    {
      "cell_type": "code",
      "metadata": {
        "id": "g5QjZrBEO5JA",
        "colab_type": "code",
        "colab": {}
      },
      "source": [
        "fig, ax = plt.subplots(figsize=(22,8))\n",
        "\n",
        "sns.distplot(list(antennas_with_areas['תוצאה מירבית ב% ביחס לסף הבריאות']), hist=False, kde=True)\n",
        "ax.set(xlabel=\"Precentage of Radiation with Respect to the Health Radiation Limit Rates\", ylabel=\"Precentage\")\n",
        "ax.set_title(\"Precentage of Radiation with Respect to the Health Radiation Limit Rates\", fontsize=20)\n",
        "\n",
        "plt.show()"
      ],
      "execution_count": null,
      "outputs": []
    },
    {
      "cell_type": "markdown",
      "metadata": {
        "id": "D-IZWXRGKABN",
        "colab_type": "text"
      },
      "source": [
        "Another measure we have on antennas radiations is the precentage of radiation with respect to the health radiation limit rates. This measure correlates with the previous radiation measure and as we can see a large portion of the antennas have less then 100 precents of the radiation limit rates. The meausre is between 0 and ~470.\n"
      ]
    },
    {
      "cell_type": "code",
      "metadata": {
        "id": "LmEvLbe1ZofC",
        "colab_type": "code",
        "colab": {}
      },
      "source": [
        "def revere(x):\n",
        "  return x[::-1]\n",
        "\n",
        "df = Antennas.groupby(['סוג אתר'])['סוג אתר'].size().to_frame('count').reset_index()\n",
        "df = df.sort_values('count')\n",
        "df['רתא גוס']=df['סוג אתר'].apply(revere)\n",
        "df\n",
        "fig, ax = plt.subplots(figsize=(22,8))\n",
        "sns.set(style=\"whitegrid\")\n",
        "ax = sns.barplot(x='רתא גוס', y=\"count\", data=df)\n",
        "ax.set(xlabel='Antenna Type', ylabel=\"Antennas Count\")\n",
        "ax.set_title(\"Types of Antennas Distribution\", fontsize=20)\n",
        "plt.show()"
      ],
      "execution_count": null,
      "outputs": []
    },
    {
      "cell_type": "markdown",
      "metadata": {
        "id": "4QLOC4noK3Nf",
        "colab_type": "text"
      },
      "source": [
        "In the above bar chart we see the distribution of different types of antennas, Ground Antennas are the most common type of antennas and are the type of antennas that from enviormental prespective \"pollut\" the landscape more than other antennas type. "
      ]
    },
    {
      "cell_type": "markdown",
      "metadata": {
        "id": "f2UzZDUQRGTh",
        "colab_type": "text"
      },
      "source": [
        "## Analyzing Antennas Data with respect to socio economic clusters"
      ]
    },
    {
      "cell_type": "markdown",
      "metadata": {
        "id": "wx5kv040iMEa",
        "colab_type": "text"
      },
      "source": [
        "### Figure 3.1"
      ]
    },
    {
      "cell_type": "code",
      "metadata": {
        "id": "9344qa7-AsHs",
        "colab_type": "code",
        "colab": {}
      },
      "source": [
        "a_rad_power_mean = antennas_with_cluster.groupby('cluster')['עוצמת הקרינה'].mean().reset_index()\n",
        "fig, ax = plt.subplots(figsize=(22,8))\n",
        "\n",
        "sns.barplot(a_rad_power_mean['cluster'].tolist(),a_rad_power_mean['עוצמת הקרינה'].tolist())\n",
        "ax.set(xlabel=\"Socio Economic Cluster\", ylabel=\"Radiation Intensity\")\n",
        "ax.set_title(\"Average Antennas Radiation Intensity by Socio Economic Cluster\", fontsize=20)\n",
        "plt.show()"
      ],
      "execution_count": null,
      "outputs": []
    },
    {
      "cell_type": "markdown",
      "metadata": {
        "id": "41dJlhBqLzOP",
        "colab_type": "text"
      },
      "source": [
        "We can see that the is no correlation between socio economic clusters and antennas radiation but it can be seen that the lowest socio-economic areas have more radiating antennas then other statistical areas. 2 time more highest cluster statistical areas."
      ]
    },
    {
      "cell_type": "markdown",
      "metadata": {
        "id": "VNf38kH9jfIk",
        "colab_type": "text"
      },
      "source": [
        "### Figure 3.2"
      ]
    },
    {
      "cell_type": "code",
      "metadata": {
        "id": "AygawfL9BOfO",
        "colab_type": "code",
        "colab": {}
      },
      "source": [
        "a_rad_power_median = antennas_with_cluster.groupby('cluster')['עוצמת הקרינה'].median().reset_index()\n",
        "fig, ax = plt.subplots(figsize=(22,8))\n",
        "\n",
        "sns.barplot(a_rad_power_median['cluster'].tolist(),a_rad_power_median['עוצמת הקרינה'].tolist())\n",
        "ax.set(xlabel=\"Socio Economic Cluster\", ylabel=\"Radiation Intensity\")\n",
        "ax.set_title(\"Meidan Antennas Radiation Intensity by Socio Economic Cluster\", fontsize=20)\n",
        "plt.show()"
      ],
      "execution_count": null,
      "outputs": []
    },
    {
      "cell_type": "markdown",
      "metadata": {
        "id": "4ZpX7i3PMp6I",
        "colab_type": "text"
      },
      "source": [
        "When examining the median the differnces between the lowest and highest socio economic areas is more apparent\n"
      ]
    },
    {
      "cell_type": "markdown",
      "metadata": {
        "id": "Q0DSxY0hkyFh",
        "colab_type": "text"
      },
      "source": [
        "### Figure 3.3"
      ]
    },
    {
      "cell_type": "code",
      "metadata": {
        "id": "Fa2Qr1nsBuph",
        "colab_type": "code",
        "colab": {}
      },
      "source": [
        "a_max_percent_mean = antennas_with_cluster.groupby('cluster')['תוצאה מירבית ב% ביחס לסף הבריאות'].mean().reset_index()\n",
        "fig, ax = plt.subplots(figsize=(22,8))\n",
        "\n",
        "sns.barplot(a_max_percent_mean['cluster'].tolist(),a_max_percent_mean['תוצאה מירבית ב% ביחס לסף הבריאות'].tolist())\n",
        "ax.set(xlabel=\"Socio Economic Cluster\", ylabel=\"Precentage of Radiation with Respect to the Health Radiation Limit Rates\")\n",
        "ax.set_title(\"Average Precentage of Radiation with Respect to the Health Radiation Limit Rates by Socio Economic Cluster\", fontsize=20)\n",
        "plt.show()"
      ],
      "execution_count": null,
      "outputs": []
    },
    {
      "cell_type": "markdown",
      "metadata": {
        "id": "VWOI-5Bflgqj",
        "colab_type": "text"
      },
      "source": [
        "### Figure 3.4"
      ]
    },
    {
      "cell_type": "code",
      "metadata": {
        "id": "0i0hGQ5fCsbg",
        "colab_type": "code",
        "colab": {}
      },
      "source": [
        "a_max_percent_median = antennas_with_cluster.groupby('cluster')['תוצאה מירבית ב% ביחס לסף הבריאות'].median().reset_index()\n",
        "fig, ax = plt.subplots(figsize=(22,8))\n",
        "\n",
        "sns.barplot(a_max_percent_median['cluster'].tolist(),a_max_percent_median['תוצאה מירבית ב% ביחס לסף הבריאות'].tolist())\n",
        "ax.set(xlabel=\"Socio Economic Cluster\", ylabel=\"Precentage of Radiation with Respect to the Health Radiation Limit Rates\")\n",
        "ax.set_title(\"Median Precentage of Radiation with Respect to the Health Radiation Limit Rates by Socio Economic Cluster\", fontsize=20)\n",
        "plt.show()"
      ],
      "execution_count": null,
      "outputs": []
    },
    {
      "cell_type": "markdown",
      "metadata": {
        "id": "kxHjBGLrNOzR",
        "colab_type": "text"
      },
      "source": [
        "Here we can see more that from health prespective the antennas in the lowest socio-economic areas are less safe then the others socio-economic clusters"
      ]
    },
    {
      "cell_type": "markdown",
      "metadata": {
        "id": "icgWQhPYltFn",
        "colab_type": "text"
      },
      "source": [
        "### Figure 3.5"
      ]
    },
    {
      "cell_type": "code",
      "metadata": {
        "id": "L2Mjf_sz8aKQ",
        "colab_type": "code",
        "colab": {}
      },
      "source": [
        "mean_count_of_antennas_by_areas = antennas_with_cluster.groupby(['area','cluster']).size().to_frame('size').reset_index().groupby('cluster')['size'].mean().reset_index()\n",
        "fig, ax = plt.subplots(figsize=(22,8))\n",
        "\n",
        "sns.barplot(mean_count_of_antennas_by_areas['cluster'].tolist(),mean_count_of_antennas_by_areas['size'].tolist())\n",
        "ax.set(xlabel=\"Socio Economic Cluster\", ylabel=\"Average Antennas Count\")\n",
        "ax.set_title(\"Average Antennas Count by Socio Economic Cluster\", fontsize=20)\n",
        "plt.show()"
      ],
      "execution_count": null,
      "outputs": []
    },
    {
      "cell_type": "markdown",
      "metadata": {
        "id": "wnj-vHeMNmRm",
        "colab_type": "text"
      },
      "source": [
        "From the above figure we can see that the better socio economic area the average of antennas is higher, there more then 1.5 times more antennas on average on highest socio economic areas then the lower socio economic areas. This is a crucial analysis as more antennas usually results in less radiation in users phone, which is usually more critical as most phone users live far from cellular towers direct radiation and phone radiation is the most common cellular radiation people are dealing with"
      ]
    },
    {
      "cell_type": "markdown",
      "metadata": {
        "id": "SEE0WGZ9eIaZ",
        "colab_type": "text"
      },
      "source": [
        "### Avergae Data By Statistical Area and then by Statistical Cluster\n",
        "\n"
      ]
    },
    {
      "cell_type": "markdown",
      "metadata": {
        "id": "4QB8Kiqjm1QW",
        "colab_type": "text"
      },
      "source": [
        "#### Figure 3.6"
      ]
    },
    {
      "cell_type": "code",
      "metadata": {
        "id": "rpNIyMNWfJRs",
        "colab_type": "code",
        "colab": {}
      },
      "source": [
        "avg_areas_avg = antennas_with_cluster.groupby('area').mean()[['cluster','population ','תוצאה מירבית ב% ביחס לסף הבריאות','עוצמת הקרינה']].groupby('cluster')['תוצאה מירבית ב% ביחס לסף הבריאות','עוצמת הקרינה'].mean().reset_index()\n",
        "fig, ax = plt.subplots(figsize=(22,8))\n",
        "\n",
        "sns.barplot(avg_areas_avg['cluster'].astype(int).tolist(),avg_areas_avg['עוצמת הקרינה'].tolist())\n",
        "ax.set(xlabel=\"Socio Economic Cluster\", ylabel=\"Radiation Intensity\")\n",
        "ax.set_title(\"Average Antennas Radiation Intensity first by Statistical Areas and then by Socio Economic Cluster\", fontsize=20)\n",
        "plt.show()"
      ],
      "execution_count": null,
      "outputs": []
    },
    {
      "cell_type": "markdown",
      "metadata": {
        "id": "CW5KBaM6Ov0W",
        "colab_type": "text"
      },
      "source": [
        "We tried to see if we learn more details from first calculating the average radiation from each statistical areas and only then calculate the average radiation per clusters. We can see that there is no big difference in this approach"
      ]
    },
    {
      "cell_type": "markdown",
      "metadata": {
        "id": "5eDRCEGCnsKA",
        "colab_type": "text"
      },
      "source": [
        "#### Figure 3.7"
      ]
    },
    {
      "cell_type": "code",
      "metadata": {
        "id": "5W-l6oYMgdJ8",
        "colab_type": "code",
        "colab": {}
      },
      "source": [
        "# plt.bar(avg_areas_avg['cluster'].astype(int).tolist(),avg_areas_avg['תוצאה מירבית ב% ביחס לסף הבריאות'].tolist(), align='center')\n",
        "fig, ax = plt.subplots(figsize=(22,8))\n",
        "\n",
        "sns.barplot(avg_areas_avg['cluster'].astype(int).tolist(),avg_areas_avg['תוצאה מירבית ב% ביחס לסף הבריאות'].tolist())\n",
        "ax.set(xlabel=\"Socio Economic Cluster\", ylabel=\"Precentage of Radiation with Respect to the Health Radiation Limit Rates\")\n",
        "ax.set_title(\"Average Antennas Precentage of Radiation with Respect to the Health Radiation Limit Rates first by Statistical Areas and then by Socio Economic Cluster\", fontsize=20)\n",
        "plt.show()"
      ],
      "execution_count": null,
      "outputs": []
    },
    {
      "cell_type": "markdown",
      "metadata": {
        "id": "A5mnPKw9oHeD",
        "colab_type": "text"
      },
      "source": [
        "### Figure 3.8"
      ]
    },
    {
      "cell_type": "code",
      "metadata": {
        "id": "ShGSgwgmjkqt",
        "colab_type": "code",
        "colab": {}
      },
      "source": [
        "top_quarter = antennas_with_cluster[antennas_with_cluster['עוצמת הקרינה'] > antennas_with_cluster['עוצמת הקרינה'].quantile(0.90)]\n",
        "\n",
        "top_q_size_by_cluster = top_quarter.groupby('cluster').size().to_frame('size').reset_index()\n",
        "top_q_size_by_cluster['precentage_in_top_quarter'] = top_q_size_by_cluster['size']/antennas_with_cluster.groupby('cluster').size().to_frame('size').reset_index()['size']\n",
        "fig, ax = plt.subplots(figsize=(22,8))\n",
        "\n",
        "sns.barplot(top_q_size_by_cluster['cluster'].astype(int).tolist(),top_q_size_by_cluster['precentage_in_top_quarter'].tolist())\n",
        "ax.set(xlabel=\"Socio Economic Cluster\", ylabel=\"Radiation Intensity\")\n",
        "ax.set_title(\"Top 10 precent of the most radiating antennas distributed by socio economic clusters\", fontsize=20)\n",
        "plt.show()"
      ],
      "execution_count": null,
      "outputs": []
    },
    {
      "cell_type": "markdown",
      "metadata": {
        "id": "btlNW7SFPstQ",
        "colab_type": "text"
      },
      "source": [
        "We wanted to know how the 10 percent most radiating antennas distributed across the socio economic clusters, as we can see 20% of the most radiating antennas are in the lowest socio economic areas."
      ]
    },
    {
      "cell_type": "markdown",
      "metadata": {
        "id": "g2dNrtZ0pJzi",
        "colab_type": "text"
      },
      "source": [
        "### Figure 3.9"
      ]
    },
    {
      "cell_type": "code",
      "metadata": {
        "id": "sGQUcI0_otxH",
        "colab_type": "code",
        "colab": {}
      },
      "source": [
        "bottom_10 = antennas_with_cluster[antennas_with_cluster['עוצמת הקרינה'] < antennas_with_cluster['עוצמת הקרינה'].quantile(0.10)]\n",
        "\n",
        "bottom_10_size_by_cluster = bottom_10.groupby('cluster').size().to_frame('size').reset_index()\n",
        "bottom_10_size_by_cluster['precentage_in_top_quarter'] = bottom_10_size_by_cluster['size']/antennas_with_cluster.groupby('cluster').size().to_frame('size').reset_index()['size']\n",
        "fig, ax = plt.subplots(figsize=(22,8))\n",
        "\n",
        "sns.barplot(bottom_10_size_by_cluster['cluster'].astype(int).tolist(),bottom_10_size_by_cluster['precentage_in_top_quarter'].tolist())\n",
        "ax.set(xlabel=\"Socio Economic Cluster\", ylabel=\"Radiation Intensity\")\n",
        "ax.set_title(\"Top 10 precent of the least radiating antennas distributed by socio economic clusters\", fontsize=20)\n",
        "plt.show()"
      ],
      "execution_count": null,
      "outputs": []
    },
    {
      "cell_type": "markdown",
      "metadata": {
        "id": "VptvgxVzQS5M",
        "colab_type": "text"
      },
      "source": [
        "We wantend to learn how the least radiating antennas are distributed, as we can see the best antennas radiation-wise are in the 2 highest socio economic clusters and the least \"good\" antennas are in the lowest socio economic areas."
      ]
    },
    {
      "cell_type": "code",
      "metadata": {
        "id": "Jky0UxH-JBmg",
        "colab_type": "code",
        "colab": {}
      },
      "source": [
        "area_antennas_count = antennas_with_cluster.groupby('area').size().to_frame('size').reset_index()\n",
        "area_antennas_rad = antennas_with_cluster.groupby('area')[['תוצאה מירבית ב% ביחס לסף הבריאות','עוצמת הקרינה']].mean().reset_index()\n",
        "mean_count_of_antennas_by_areas = pd.merge(area_antennas_count,socio_economic_df[['area','cluster','population ']],on='area',)\n",
        "mean_count_of_antennas_by_areas = pd.merge(mean_count_of_antennas_by_areas,area_polygons[['area','Shape_Area']],on='area')\n",
        "rad_by_areas = pd.merge(mean_count_of_antennas_by_areas,area_antennas_rad,on='area')\n",
        "rad_by_areas['population_antennas_ratio'] = rad_by_areas['population ']/rad_by_areas['size']\n",
        "\n",
        "rad_by_clusters = rad_by_areas.groupby('cluster').mean().reset_index()\n",
        "rad_by_clusters['density'] = rad_by_clusters['Shape_Area']/rad_by_clusters['population ']\n",
        "rad_by_clusters['number_of_antennas_devided_by_density'] = rad_by_clusters['density']/rad_by_clusters['size']\n",
        "rad_by_clusters['population_antennas_ratio'] = rad_by_clusters['population ']/rad_by_clusters['size']\n",
        "rad_by_clusters['area_shape_divided_by_number_of_antennas'] = rad_by_clusters['Shape_Area']/rad_by_clusters['size']\n"
      ],
      "execution_count": null,
      "outputs": []
    },
    {
      "cell_type": "markdown",
      "metadata": {
        "id": "4WhV9T7iqPca",
        "colab_type": "text"
      },
      "source": [
        "### Figure 3.10"
      ]
    },
    {
      "cell_type": "code",
      "metadata": {
        "id": "xYVtLcD7otds",
        "colab_type": "code",
        "colab": {}
      },
      "source": [
        "fig, ax = plt.subplots(figsize=(22,8))\n",
        "\n",
        "sns.barplot(rad_by_clusters['cluster'].astype(int).tolist(),rad_by_clusters['population_antennas_ratio'].tolist())\n",
        "ax.set(xlabel=\"Socio Economic Cluster\", ylabel=\"Average Population per 1 Antenna\")\n",
        "ax.set_title(\"Average Ratio of Population and Number of Antennas in each Socio-Economic Cluster\", fontsize=20)\n",
        "plt.show()"
      ],
      "execution_count": null,
      "outputs": []
    },
    {
      "cell_type": "markdown",
      "metadata": {
        "id": "qMg9XFjtQwSR",
        "colab_type": "text"
      },
      "source": [
        "Here we wanted to calculate the ratio between the areas population and the amount of antennas in the areas. In other words, on average how many people 1 antenna serves. We can see there is a constant decrease in the population / antennas ratio as you go up in the socio economic cluster. This is important measure as the more people antennas serves the radiation is usually higher and there is a clear motivation radition wise to lower the population / antennas ratio"
      ]
    },
    {
      "cell_type": "markdown",
      "metadata": {
        "id": "I6lqqmjAr4dQ",
        "colab_type": "text"
      },
      "source": [
        "### Figure 3.11"
      ]
    },
    {
      "cell_type": "code",
      "metadata": {
        "id": "3jtfgdTItcVq",
        "colab_type": "code",
        "colab": {}
      },
      "source": [
        "fig, ax = plt.subplots(figsize=(22,8))\n",
        "\n",
        "sns.barplot(rad_by_clusters['cluster'].astype(int).tolist(),rad_by_clusters['area_shape_divided_by_number_of_antennas'].tolist())\n",
        "ax.set(xlabel=\"Socio Economic Cluster\", ylabel=\"Ratio between Statistical Area size and Number of Antennas\")\n",
        "ax.set_title(\"Ratio of Area size and Number of Antennas distributed by socio economic clusters\", fontsize=20)\n",
        "plt.show()"
      ],
      "execution_count": null,
      "outputs": []
    },
    {
      "cell_type": "markdown",
      "metadata": {
        "id": "MN9tnceeSrh3",
        "colab_type": "text"
      },
      "source": [
        "Here we measured the number of antennas with respect to the size of areas, we can see that on average lower socio economic cluster have less antennas per area which also can result in higher phone radiation as phone emit more radiation when it is far from the antenna."
      ]
    },
    {
      "cell_type": "markdown",
      "metadata": {
        "id": "Ha2V4SINsfRf",
        "colab_type": "text"
      },
      "source": [
        "### Figure 3.12"
      ]
    },
    {
      "cell_type": "code",
      "metadata": {
        "id": "d_B5aV1G9_G4",
        "colab_type": "code",
        "colab": {}
      },
      "source": [
        "count_area = antennas_with_cluster.groupby(['cluster','area']).size().to_frame('size').reset_index()\n",
        "count_area = count_area.groupby(['cluster'])['area'].size().to_frame('sum_area_by_cluster').reset_index()\n",
        "df = antennas_with_cluster.groupby(['Year_permit','cluster']).size().to_frame('size').reset_index()\n",
        "\n",
        "df_merge = pd.merge(df,count_area,on='cluster')\n",
        "df_merge['norm_by_number_of_areas'] =df_merge['size']/df_merge['sum_area_by_cluster']\n",
        "\n",
        "fig = px.scatter(df_merge, x=\"Year_permit\", y=\"cluster\", size=\"norm_by_number_of_areas\",\n",
        "                  title=\"Average number of permits per area for socio economic cluster in each Year\")\n",
        "plt.show()\n",
        "fig.show()"
      ],
      "execution_count": null,
      "outputs": []
    },
    {
      "cell_type": "markdown",
      "metadata": {
        "id": "9gSGPTgpTKB4",
        "colab_type": "text"
      },
      "source": [
        "The above figure describe the average new antennas permits on each cluster in each year. We can see that there is slightly more antennas permits in the higher socio economic cluster, this can somehow explain why on average there are more antennas in the higher socio economic clusters then the lower ones."
      ]
    },
    {
      "cell_type": "markdown",
      "metadata": {
        "id": "cQTRs6Abue_r",
        "colab_type": "text"
      },
      "source": [
        "### Figure 3.13"
      ]
    },
    {
      "cell_type": "code",
      "metadata": {
        "id": "CSoOFkrt-DIQ",
        "colab_type": "code",
        "colab": {}
      },
      "source": [
        "fig, ax = plt.subplots(figsize=(22,8))\n",
        "df = antennas_with_cluster.groupby(['cluster'])['gap_DT'].mean().to_frame('av_gap').reset_index()\n",
        "sns.barplot(df['cluster'].astype(int).tolist(),df['av_gap'].tolist())\n",
        "ax.set(xlabel=\"Socio Economic Cluster\", ylabel=\"Number of Months Between Permits to Activation\")\n",
        "ax.set_title(\"Number of Months Between Permits to Activation distributed by socio economic clusters\", fontsize=20)\n",
        "plt.show()"
      ],
      "execution_count": null,
      "outputs": []
    },
    {
      "cell_type": "markdown",
      "metadata": {
        "id": "vV0NqzYmUDgj",
        "colab_type": "text"
      },
      "source": [
        "This figure describes the time in months between an antenna is premited to operate and the time it started operating. There is no a clear differences between most of the clusters. Some lower clusters have relative quick operating time, We need more data and an expert to understand why there is a difference (less regulation, less objections from the population etc)"
      ]
    },
    {
      "cell_type": "markdown",
      "metadata": {
        "id": "mXJEy929vFSo",
        "colab_type": "text"
      },
      "source": [
        "### Figure 3.14"
      ]
    },
    {
      "cell_type": "code",
      "metadata": {
        "id": "k31TYcjG-KxV",
        "colab_type": "code",
        "colab": {}
      },
      "source": [
        "antennas_with_cluster['type'] = antennas_with_cluster['סוג אתר']\n",
        "\n",
        "count_area = antennas_with_cluster.groupby(['cluster','area']).size().to_frame('size').reset_index()\n",
        "count_area = count_area.groupby(['cluster'])['area'].size().to_frame('sum_area_by_cluster').reset_index()\n",
        "\n",
        "df = antennas_with_cluster.groupby(['cluster','type']).size().to_frame('count_type').reset_index()\n",
        "\n",
        "df_merge = pd.merge(df,count_area,on='cluster')\n",
        "\n",
        "df_merge['norm_by_number_of_areas'] =df_merge['count_type']/df_merge['sum_area_by_cluster']\n",
        "\n",
        "\n",
        "fig = px.scatter(df_merge, x=\"cluster\", y=\"type\", size=\"norm_by_number_of_areas\",title=\"Average number of antennas by type per socio economic cluster\")\n",
        "\n",
        "fig.show()\n",
        "\n",
        "\n"
      ],
      "execution_count": null,
      "outputs": []
    },
    {
      "cell_type": "markdown",
      "metadata": {
        "id": "6yc2CXPEVOGp",
        "colab_type": "text"
      },
      "source": [
        "This is a distribution of the type of antennas by socio economic clusters. There is more small antennas in higher socio economic clusters, but this is predictable as those are used in high buildings, offices and malls. There are more ground antennas in higher socio economic areas which are usually \"pollut\" the landscape more then other antennas."
      ]
    },
    {
      "cell_type": "markdown",
      "metadata": {
        "id": "kPGBOEjXWN4q",
        "colab_type": "text"
      },
      "source": [
        "## Conclusions"
      ]
    },
    {
      "cell_type": "markdown",
      "metadata": {
        "id": "m8XQJyHIWR7D",
        "colab_type": "text"
      },
      "source": [
        "\n",
        "\n",
        "*   There are a clearly more radiation from antennas in the lowest socio economic cluster\n",
        "*   There are a clearly less radiation from antennas in the highest socio economic cluster\n",
        "*   There more antennas on average the higher the socio economic area cluster, and the ratio between the population and the number of antennas is higher at the lower socio economic clusters, this can carefully implies cellular phone users on lower socio economic cluster suffer from a more radiation from their phones.\n",
        "\n"
      ]
    }
  ]
}